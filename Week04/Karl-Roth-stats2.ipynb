{
 "metadata": {
  "name": "",
  "signature": "sha256:a337b95c07806427a5967073f76e7cec1838f93b678b75806eaea0cbdb07aaac"
 },
 "nbformat": 3,
 "nbformat_minor": 0,
 "worksheets": [
  {
   "cells": [
    {
     "cell_type": "markdown",
     "metadata": {},
     "source": [
      "## Problem 4.2. Simple Statistics II.\n",
      "\n",
      "This problem is a continuation of problem 4.1. Recall that you wrote a function named `get_stats()` that takes a list and returns a tuple of minimum, maximum, mean, and median. To use this function, you have to convert your IPython notebook to a regular `.py` file. One way to do this is to use the IPython `%%script%%` magic function; open up a new notebook, and in an IPython notebook cell, type (assuming the filename of your IPython notebook from Problem 4.1 is `stats.ipynb`):\n",
      "\n",
      "    %%bash\n",
      "    ipython3 nbconvert --to python stats.ipynb\n",
      "\n",
      "and press <kbd>shift</kbd> + <kbd>enter</kbd>. This will create a Python script\n",
      "named `stats.py`. We will import this as a module in `stats2.ipynb`:"
     ]
    },
    {
     "cell_type": "code",
     "collapsed": false,
     "input": [
      "from stats import get_stats"
     ],
     "language": "python",
     "metadata": {},
     "outputs": [
      {
       "ename": "NameError",
       "evalue": "name 'minimum' is not defined",
       "output_type": "pyerr",
       "traceback": [
        "\u001b[1;31m---------------------------------------------------------------------------\u001b[0m\n\u001b[1;31mNameError\u001b[0m                                 Traceback (most recent call last)",
        "\u001b[1;32m<ipython-input-19-7b250db76fb9>\u001b[0m in \u001b[0;36m<module>\u001b[1;34m()\u001b[0m\n\u001b[1;32m----> 1\u001b[1;33m \u001b[1;32mfrom\u001b[0m \u001b[0mstats\u001b[0m \u001b[1;32mimport\u001b[0m \u001b[0mget_stats\u001b[0m\u001b[1;33m\u001b[0m\u001b[0m\n\u001b[0m",
        "\u001b[1;32m/notebooks/stats.py\u001b[0m in \u001b[0;36m<module>\u001b[1;34m()\u001b[0m\n\u001b[0;32m     65\u001b[0m \u001b[1;33m\u001b[0m\u001b[0m\n\u001b[0;32m     66\u001b[0m \u001b[0mmy_list\u001b[0m \u001b[1;33m=\u001b[0m \u001b[0mlist\u001b[0m\u001b[1;33m(\u001b[0m\u001b[0mrange\u001b[0m\u001b[1;33m(\u001b[0m\u001b[1;36m51\u001b[0m\u001b[1;33m)\u001b[0m\u001b[1;33m)\u001b[0m \u001b[1;31m# from 0 to 50. an odd number of elements.\u001b[0m\u001b[1;33m\u001b[0m\u001b[0m\n\u001b[1;32m---> 67\u001b[1;33m \u001b[0mmin_val\u001b[0m\u001b[1;33m,\u001b[0m \u001b[0mmax_val\u001b[0m\u001b[1;33m,\u001b[0m \u001b[0mmean_val\u001b[0m\u001b[1;33m,\u001b[0m \u001b[0mmed_val\u001b[0m \u001b[1;33m=\u001b[0m \u001b[0mget_stats\u001b[0m\u001b[1;33m(\u001b[0m\u001b[0mmy_list\u001b[0m\u001b[1;33m)\u001b[0m\u001b[1;33m\u001b[0m\u001b[0m\n\u001b[0m\u001b[0;32m     68\u001b[0m \u001b[0mprint\u001b[0m\u001b[1;33m(\u001b[0m\u001b[1;34m\"Minimum = {0} is of type {1}.\"\u001b[0m\u001b[1;33m.\u001b[0m\u001b[0mformat\u001b[0m\u001b[1;33m(\u001b[0m\u001b[0mmin_val\u001b[0m\u001b[1;33m,\u001b[0m \u001b[0mtype\u001b[0m\u001b[1;33m(\u001b[0m\u001b[0mmin_val\u001b[0m\u001b[1;33m)\u001b[0m\u001b[1;33m)\u001b[0m\u001b[1;33m)\u001b[0m\u001b[1;33m\u001b[0m\u001b[0m\n\u001b[0;32m     69\u001b[0m \u001b[0mprint\u001b[0m\u001b[1;33m(\u001b[0m\u001b[1;34m\"Maximum = {0} is of type {1}.\"\u001b[0m\u001b[1;33m.\u001b[0m\u001b[0mformat\u001b[0m\u001b[1;33m(\u001b[0m\u001b[0mmax_val\u001b[0m\u001b[1;33m,\u001b[0m \u001b[0mtype\u001b[0m\u001b[1;33m(\u001b[0m\u001b[0mmax_val\u001b[0m\u001b[1;33m)\u001b[0m\u001b[1;33m)\u001b[0m\u001b[1;33m)\u001b[0m\u001b[1;33m\u001b[0m\u001b[0m\n",
        "\u001b[1;32m/notebooks/stats.py\u001b[0m in \u001b[0;36mget_stats\u001b[1;34m(input_list)\u001b[0m\n\u001b[0;32m     49\u001b[0m     \u001b[1;31m# your code goes here\u001b[0m\u001b[1;33m\u001b[0m\u001b[1;33m\u001b[0m\u001b[0m\n\u001b[0;32m     50\u001b[0m \u001b[1;33m\u001b[0m\u001b[0m\n\u001b[1;32m---> 51\u001b[1;33m     \u001b[1;32mreturn\u001b[0m \u001b[0mminimum\u001b[0m\u001b[1;33m,\u001b[0m \u001b[0mmaximum\u001b[0m\u001b[1;33m,\u001b[0m \u001b[0mmean\u001b[0m\u001b[1;33m,\u001b[0m \u001b[0mmedian\u001b[0m\u001b[1;33m\u001b[0m\u001b[0m\n\u001b[0m\u001b[0;32m     52\u001b[0m \u001b[1;33m\u001b[0m\u001b[0m\n\u001b[0;32m     53\u001b[0m \u001b[1;33m\u001b[0m\u001b[0m\n",
        "\u001b[1;31mNameError\u001b[0m: name 'minimum' is not defined"
       ]
      }
     ],
     "prompt_number": 19
    },
    {
     "cell_type": "markdown",
     "metadata": {},
     "source": [
      "We will use the function `get_stats()` to compute basic statistics of a number of columns from the arline performance dataset we downloaded in week 2. Namely, we will use the following columns:\n",
      "\n",
      "- Column 15, \"ArrDelay\": arrival delay, in minutes,\n",
      "- Column 16, \"DepDelay\": departure delay, in minutes, and\n",
      "- Column 19, \"Distance\": distance, in miles.\n",
      "\n",
      "To extract these columns from the CSV file,\n",
      "\n",
      "- Write a function named `get_column(filename, n, header = True)` that reads the `n`-th column from a file and returns a list of integers.\n",
      "\n",
      "- You may assume that the column is made of integers.\n",
      "\n",
      "- We will also use the optional argument `header` because the first line of our file lists the names of the columns, but we might want to turn this off to handle a file that doesn't have a header.\n",
      "\n",
      "- Use a combination of `with` statement and `open()` function to open `filename` in the `get_column()` function.\n",
      "  \n",
      "  Tip: When I tried to use `open()` to read `2001.csv`, I had the following error:\n",
      "  \n",
      "        'utf-8' codec can't decode byte 0xe4 in position 343: invalid continuation byte\n",
      "        \n",
      "  You can avoid this error by using `encoding='latin-1'` option in `open()`.\n",
      "  \n",
      "- Skip the first line if the `header` parameter is `True`; do not skip if it's `False`.\n",
      "\n",
      "- Some columns have missing values `'NA'`, and you need a way to handle these\n",
      "  missing values. If the `n`-th column is missing, you should **not** include\n",
      "  that column in `result`; that is, skip all rows with `'NA'`.\n",
      "  As a result, lists returned from different\n",
      "  columns may have different lengths."
     ]
    },
    {
     "cell_type": "code",
     "collapsed": false,
     "input": [
      "def get_column(filename, n, header=True):\n",
      "    '''\n",
      "    Returns a list from reading the specified column in the CSV file.\n",
      "\n",
      "    Parameters\n",
      "    __________\n",
      "    filename(str): Input file name in Comma Separated Values (CSV) format\n",
      "    n(int): Column number. The first column starts at 0. The column must be\n",
      "            a list of integers.\n",
      "    header(bool): If True, the first line of file is column names.\n",
      "                  Default: True.\n",
      "\n",
      "    Examples\n",
      "    ________\n",
      "    >>> get_column('/data/airline/2001.csv', 14)[:10]\n",
      "    [-3, 4, 23, 10, 20, -3, -10, -12, -9, -1]\n",
      "    >>> get_column('/data/airline/2001.csv', 15)[-10:]\n",
      "    [-4, -5, -8, 4, -7, 4, 8, -4, -4, 9]\n",
      "    '''\n",
      "    result = []\n",
      "    \n",
      "    # your code goes here\n",
      "    \n",
      "    with open(filename, encoding='latin-1') as file:\n",
      "            \n",
      "            for line in file:   \n",
      "                    array = line.split(',')\n",
      "                    result.append(array[n])\n",
      "            if header:\n",
      "                del result[0]\n",
      "    \n",
      "    return result"
     ],
     "language": "python",
     "metadata": {},
     "outputs": [],
     "prompt_number": 16
    },
    {
     "cell_type": "markdown",
     "metadata": {},
     "source": [
      "We also want to print out the results in a nicely formatted manner.\n",
      "\n",
      "- The `print_stats(input_list, title=None)` function is already written for you.\n",
      "  You don't need to write this function.\n",
      "\n",
      "It takes a list of integers and prints out the basic statistics."
     ]
    },
    {
     "cell_type": "code",
     "collapsed": false,
     "input": [
      "def print_stats(input_list, title=None):\n",
      "    '''\n",
      "    Computes minimum, maximum, mean, and median using get_stats function from\n",
      "      stats module, and prints them out in a nice format.\n",
      "\n",
      "    Parameters:\n",
      "      input_list(list): a list representing a column\n",
      "      title(str): Optional. If given, title is printed out before the stats.\n",
      "\n",
      "    Examples:\n",
      "    >>> print_stats(list(range(50)))\n",
      "    Minimum: 0\n",
      "    Maximum: 49\n",
      "    Mean: 24.5\n",
      "    Median: 24.5\n",
      "    >>> print_stats(list(range(100)), title = 'Stats!')\n",
      "    Stats!\n",
      "    Minimum: 0\n",
      "    Maximum: 99\n",
      "    Mean: 49.5\n",
      "    Median: 49.5\n",
      "    '''\n",
      "    if title is not None:\n",
      "        print(title)\n",
      "        \n",
      "    minimum, maximum, mean, median = get_stats(input_list)\n",
      "    print('Minimum: {0}\\n'\n",
      "          'Maximum: {1}\\n'\n",
      "          'Mean: {2:.2f}\\n'\n",
      "          'Median: {3:.2f}'.format(minimum, maximum, mean, median))\n",
      "    return None"
     ],
     "language": "python",
     "metadata": {},
     "outputs": [],
     "prompt_number": 8
    },
    {
     "cell_type": "markdown",
     "metadata": {},
     "source": [
      "When you run the following cell, you should get\n",
      "\n",
      "    Arrival delay, in minutes.\n",
      "    Minimum: -1116\n",
      "    Maximum: 1688\n",
      "    Mean: 5.53\n",
      "    Median: -2.00"
     ]
    },
    {
     "cell_type": "code",
     "collapsed": false,
     "input": [
      "#warning: this could take a while.\n",
      "filename = '/data/airline/2001.csv' # 2001 airline on-time performance dataset\n",
      "\n",
      "arr_delay = get_column(filename, 14)\n",
      "print_stats(arr_delay, \"Arrival delay, in minutes.\")"
     ],
     "language": "python",
     "metadata": {},
     "outputs": [
      {
       "output_type": "stream",
       "stream": "stdout",
       "text": [
        "Arrival delay, in minutes.\n"
       ]
      },
      {
       "ename": "NameError",
       "evalue": "name 'get_stats' is not defined",
       "output_type": "pyerr",
       "traceback": [
        "\u001b[1;31m---------------------------------------------------------------------------\u001b[0m\n\u001b[1;31mNameError\u001b[0m                                 Traceback (most recent call last)",
        "\u001b[1;32m<ipython-input-18-00c6a6ad33e4>\u001b[0m in \u001b[0;36m<module>\u001b[1;34m()\u001b[0m\n\u001b[0;32m      3\u001b[0m \u001b[1;33m\u001b[0m\u001b[0m\n\u001b[0;32m      4\u001b[0m \u001b[0marr_delay\u001b[0m \u001b[1;33m=\u001b[0m \u001b[0mget_column\u001b[0m\u001b[1;33m(\u001b[0m\u001b[0mfilename\u001b[0m\u001b[1;33m,\u001b[0m \u001b[1;36m14\u001b[0m\u001b[1;33m)\u001b[0m\u001b[1;33m\u001b[0m\u001b[0m\n\u001b[1;32m----> 5\u001b[1;33m \u001b[0mprint_stats\u001b[0m\u001b[1;33m(\u001b[0m\u001b[0marr_delay\u001b[0m\u001b[1;33m,\u001b[0m \u001b[1;34m\"Arrival delay, in minutes.\"\u001b[0m\u001b[1;33m)\u001b[0m\u001b[1;33m\u001b[0m\u001b[0m\n\u001b[0m",
        "\u001b[1;32m<ipython-input-8-9ea4cc62fafe>\u001b[0m in \u001b[0;36mprint_stats\u001b[1;34m(input_list, title)\u001b[0m\n\u001b[0;32m     24\u001b[0m         \u001b[0mprint\u001b[0m\u001b[1;33m(\u001b[0m\u001b[0mtitle\u001b[0m\u001b[1;33m)\u001b[0m\u001b[1;33m\u001b[0m\u001b[0m\n\u001b[0;32m     25\u001b[0m \u001b[1;33m\u001b[0m\u001b[0m\n\u001b[1;32m---> 26\u001b[1;33m     \u001b[0mminimum\u001b[0m\u001b[1;33m,\u001b[0m \u001b[0mmaximum\u001b[0m\u001b[1;33m,\u001b[0m \u001b[0mmean\u001b[0m\u001b[1;33m,\u001b[0m \u001b[0mmedian\u001b[0m \u001b[1;33m=\u001b[0m \u001b[0mget_stats\u001b[0m\u001b[1;33m(\u001b[0m\u001b[0minput_list\u001b[0m\u001b[1;33m)\u001b[0m\u001b[1;33m\u001b[0m\u001b[0m\n\u001b[0m\u001b[0;32m     27\u001b[0m     print('Minimum: {0}\\n'\n\u001b[0;32m     28\u001b[0m           \u001b[1;34m'Maximum: {1}\\n'\u001b[0m\u001b[1;33m\u001b[0m\u001b[0m\n",
        "\u001b[1;31mNameError\u001b[0m: name 'get_stats' is not defined"
       ]
      }
     ],
     "prompt_number": 18
    },
    {
     "cell_type": "markdown",
     "metadata": {},
     "source": [
      "When you run the following cell, you should get\n",
      "\n",
      "    Departure delay, in minutes.\n",
      "    Minimum: -204\n",
      "    Maximum: 1692\n",
      "    Mean: 8.15\n",
      "    Median: 0.00"
     ]
    },
    {
     "cell_type": "code",
     "collapsed": false,
     "input": [
      "#warning: this could take a while.\n",
      "dep_delay = get_column(filename, 15)\n",
      "print_stats(dep_delay, \"Departure delay, in minutes.\")"
     ],
     "language": "python",
     "metadata": {},
     "outputs": []
    },
    {
     "cell_type": "markdown",
     "metadata": {},
     "source": [
      "When you run the following cell, you should get\n",
      "\n",
      "    Distance, in miles.\n",
      "    Minimum: 21\n",
      "    Maximum: 4962\n",
      "    Mean: 733.03\n",
      "    Median: 571.00"
     ]
    },
    {
     "cell_type": "code",
     "collapsed": false,
     "input": [
      "#warning: this could take a while.\n",
      "distance = get_column(filename, 18)\n",
      "print_stats(distance, \"Distance, in miles.\")"
     ],
     "language": "python",
     "metadata": {},
     "outputs": []
    },
    {
     "cell_type": "code",
     "collapsed": false,
     "input": [
      "get_column('/data/airline/2001.csv',14)[:10]"
     ],
     "language": "python",
     "metadata": {},
     "outputs": [
      {
       "metadata": {},
       "output_type": "pyout",
       "prompt_number": 17,
       "text": [
        "['-3', '4', '23', '10', '20', '-3', '-10', '-12', '-9', '-1']"
       ]
      }
     ],
     "prompt_number": 17
    },
    {
     "cell_type": "code",
     "collapsed": false,
     "input": [],
     "language": "python",
     "metadata": {},
     "outputs": []
    }
   ],
   "metadata": {}
  }
 ]
}
