{
 "metadata": {
  "name": "",
  "signature": "sha256:4ed95fde8ef66023d350394ef2750346b2b74f8fd30bc5156f6a0c09be9d9a84"
 },
 "nbformat": 3,
 "nbformat_minor": 0,
 "worksheets": [
  {
   "cells": [
    {
     "cell_type": "code",
     "collapsed": false,
     "input": [
      "%matplotlib inline\n",
      "from IPython.core.pylabtools import figsize\n",
      "import pymc as pm\n",
      "import pandas as pd\n",
      "import numpy as np\n",
      "from matplotlib import pyplot as plt"
     ],
     "language": "python",
     "metadata": {},
     "outputs": [],
     "prompt_number": 26
    },
    {
     "cell_type": "code",
     "collapsed": false,
     "input": [
      "usc = [\"Cancelled\",\"Month\", \"DayofMonth\", \"Origin\"]\n",
      "\n",
      "#read in the data and filter out what we want.\n",
      "count_data = pd.read_csv('/data/airline/2001.csv', usecols = usc, encoding = 'latin-1')\n",
      "count_data = count_data[ (count_data['Cancelled'] == 1) & (count_data['Origin'] == 'ORD') & (count_data['Month'] >= 11)  & (count_data['Month'] <= 12)]  \n",
      "\n",
      "#group the dataset by Month and Day \n",
      "#and then sum the cancellations\n",
      "count_data = count_data.groupby([\"Month\",\"DayofMonth\"]).aggregate(sum)\n",
      "\n",
      "#view the DataFrame\n",
      "print(count_data)\n",
      "\n",
      "n_count_data = len(count_data)\n",
      "\n",
      "#calculate lambda_1, lambda_2, and tau\n",
      "alpha = 1.0 / count_data.mean() \n",
      "lambda_1 = pm.Exponential(\"lambda_1\", alpha)\n",
      "lambda_2 = pm.Exponential(\"lambda_2\", alpha)\n",
      "\n",
      "\n",
      "tau = pm.DiscreteUniform(\"tau\", lower=0, upper=n_count_data)"
     ],
     "language": "python",
     "metadata": {},
     "outputs": [
      {
       "output_type": "stream",
       "stream": "stdout",
       "text": [
        "                  Cancelled\n",
        "Month DayofMonth           \n",
        "11    1                   2\n",
        "      2                   4\n",
        "      3                   2\n",
        "      4                   2\n",
        "      5                   4\n",
        "      6                   5\n",
        "      7                   5\n",
        "      9                   4\n",
        "      10                  2\n",
        "      11                  6\n",
        "      12                 25\n",
        "      13                  8\n",
        "      14                  4\n",
        "      15                 14\n",
        "      16                 44\n",
        "      17                 15\n",
        "      18                 19\n",
        "      19                 16\n",
        "      20                  6\n",
        "      21                  7\n",
        "      23                  2\n",
        "      24                  3\n",
        "      25                  2\n",
        "      26                  6\n",
        "      27                  4\n",
        "      28                  9\n",
        "      29                 15\n",
        "      30                 13\n",
        "12    1                   7\n",
        "      2                  12\n",
        "      3                   1\n",
        "      4                   9\n",
        "      5                   3\n",
        "      6                   2\n",
        "      7                   3\n",
        "      8                   5\n",
        "      9                   5\n",
        "      10                  9\n",
        "      11                  6\n",
        "      12                  6\n",
        "      13                  7\n",
        "      14                 15\n",
        "      15                 21\n",
        "      16                 22\n",
        "      17                 18\n",
        "      18                 13\n",
        "      19                  8\n",
        "      20                 11\n",
        "      23                  3\n",
        "      24                  4\n",
        "      25                  6\n",
        "      26                 18\n",
        "      27                 35\n",
        "      28                 34\n",
        "      29                  5\n",
        "      30                 24\n",
        "      31                  2\n",
        "\n",
        "[57 rows x 1 columns]\n"
       ]
      }
     ],
     "prompt_number": 59
    },
    {
     "cell_type": "code",
     "collapsed": false,
     "input": [
      "@pm.deterministic\n",
      "def lambda_(tau=tau, lambda_1=lambda_1, lambda_2=lambda_2):\n",
      "    out = np.zeros(n_count_data)\n",
      "    out[:tau] = lambda_1  # lambda before tau is lambda1\n",
      "    out[tau:] = lambda_2  # lambda after (and including) tau is lambda2\n",
      "    return out\n"
     ],
     "language": "python",
     "metadata": {},
     "outputs": [],
     "prompt_number": 60
    },
    {
     "cell_type": "code",
     "collapsed": false,
     "input": [
      "observation = pm.Poisson(\"obs\", lambda_, value=count_data, observed=True)\n",
      "\n",
      "model = pm.Model([observation, lambda_1, lambda_2, tau])"
     ],
     "language": "python",
     "metadata": {},
     "outputs": [],
     "prompt_number": 61
    },
    {
     "cell_type": "code",
     "collapsed": false,
     "input": [
      "# Mysterious code\n",
      "mcmc = pm.MCMC(model)\n",
      "mcmc.sample(40000, 10000, 1)"
     ],
     "language": "python",
     "metadata": {},
     "outputs": [
      {
       "output_type": "stream",
       "stream": "stdout",
       "text": [
        "\r",
        " [---               7%                  ] 3173 of 40000 complete in 0.5 sec"
       ]
      },
      {
       "output_type": "stream",
       "stream": "stdout",
       "text": [
        "\r",
        " [----             12%                  ] 5167 of 40000 complete in 1.0 sec"
       ]
      },
      {
       "output_type": "stream",
       "stream": "stdout",
       "text": [
        "\r",
        " [-------          20%                  ] 8249 of 40000 complete in 1.5 sec"
       ]
      },
      {
       "output_type": "stream",
       "stream": "stdout",
       "text": [
        "\r",
        " [----------       27%                  ] 11177 of 40000 complete in 2.0 sec"
       ]
      },
      {
       "output_type": "stream",
       "stream": "stdout",
       "text": [
        "\r",
        " [-------------    34%                  ] 13688 of 40000 complete in 2.5 sec"
       ]
      },
      {
       "output_type": "stream",
       "stream": "stdout",
       "text": [
        "\r",
        " [---------------  40%                  ] 16387 of 40000 complete in 3.0 sec"
       ]
      },
      {
       "output_type": "stream",
       "stream": "stdout",
       "text": [
        "\r",
        " [-----------------45%                  ] 18385 of 40000 complete in 3.5 sec"
       ]
      },
      {
       "output_type": "stream",
       "stream": "stdout",
       "text": [
        "\r",
        " [-----------------51%                  ] 20776 of 40000 complete in 4.0 sec"
       ]
      },
      {
       "output_type": "stream",
       "stream": "stdout",
       "text": [
        "\r",
        " [-----------------57%--                ] 23175 of 40000 complete in 4.5 sec"
       ]
      },
      {
       "output_type": "stream",
       "stream": "stdout",
       "text": [
        "\r",
        " [-----------------64%----              ] 25745 of 40000 complete in 5.0 sec"
       ]
      },
      {
       "output_type": "stream",
       "stream": "stdout",
       "text": [
        "\r",
        " [-----------------70%------            ] 28362 of 40000 complete in 5.5 sec"
       ]
      },
      {
       "output_type": "stream",
       "stream": "stdout",
       "text": [
        "\r",
        " [-----------------77%---------         ] 31003 of 40000 complete in 6.0 sec"
       ]
      },
      {
       "output_type": "stream",
       "stream": "stdout",
       "text": [
        "\r",
        " [-----------------83%-----------       ] 33574 of 40000 complete in 6.5 sec"
       ]
      },
      {
       "output_type": "stream",
       "stream": "stdout",
       "text": [
        "\r",
        " [-----------------90%--------------    ] 36184 of 40000 complete in 7.0 sec"
       ]
      },
      {
       "output_type": "stream",
       "stream": "stdout",
       "text": [
        "\r",
        " [-----------------96%----------------  ] 38750 of 40000 complete in 7.5 sec"
       ]
      },
      {
       "output_type": "stream",
       "stream": "stdout",
       "text": [
        "\r",
        " [-----------------100%-----------------] 40000 of 40000 complete in 7.7 sec"
       ]
      }
     ],
     "prompt_number": 62
    },
    {
     "cell_type": "code",
     "collapsed": false,
     "input": [
      "lambda_1_samples = mcmc.trace('lambda_1')[:]\n",
      "lambda_2_samples = mcmc.trace('lambda_2')[:]\n",
      "tau_samples = mcmc.trace('tau')[:]"
     ],
     "language": "python",
     "metadata": {},
     "outputs": [],
     "prompt_number": 63
    },
    {
     "cell_type": "code",
     "collapsed": false,
     "input": [
      "figsize(12.5, 10)\n",
      "# histogram of the samples:\n",
      "\n",
      "ax = plt.subplot(311)\n",
      "ax.set_autoscaley_on(False)\n",
      "\n",
      "plt.hist(lambda_1_samples, histtype='stepfilled', bins=50, alpha=0.85,\n",
      "         label=\"posterior of $\\lambda_1$\", color=\"#A60628\", normed=True)\n",
      "plt.legend(loc=\"upper left\")\n",
      "plt.title(r\"\"\"Posterior distributions of the variables\n",
      "    $\\lambda_1,\\;\\lambda_2,\\;\\tau$\"\"\")\n",
      "plt.xlim([0, 30])\n",
      "plt.ylim([0,1.0])\n",
      "plt.xlabel(\"$\\lambda_1$ value\")\n",
      "\n",
      "ax = plt.subplot(312)\n",
      "ax.set_autoscaley_on(False)\n",
      "plt.hist(lambda_2_samples, histtype='stepfilled', bins=50, alpha=0.85,\n",
      "         label=\"posterior of $\\lambda_2$\", color=\"#7A68A6\", normed=True)\n",
      "plt.legend(loc=\"upper left\")\n",
      "#plt.xlim([15, 30])\n",
      "plt.xlabel(\"$\\lambda_2$ value\")\n",
      "\n",
      "plt.subplot(313)\n",
      "w = 1.0 / tau_samples.shape[0] * np.ones_like(tau_samples)\n",
      "plt.hist(tau_samples, bins=n_count_data, alpha=1,\n",
      "         label=r\"posterior of $\\tau$\",\n",
      "         color=\"#467821\", weights=w, rwidth=2.)\n",
      "plt.xticks(np.arange(n_count_data))\n",
      "\n",
      "plt.legend(loc=\"upper left\")\n",
      "#plt.ylim([0, .75])\n",
      "#plt.xlim([35, len(count_data) - 20])\n",
      "plt.xlim([30,50])\n",
      "plt.xlabel(r\"$\\tau$ (in days)\")\n",
      "plt.ylabel(\"probability\");"
     ],
     "language": "python",
     "metadata": {},
     "outputs": [
      {
       "metadata": {},
       "output_type": "display_data",
       "png": "[encoded data removed]",
       "text": [
        "<matplotlib.figure.Figure at 0x7f41baf78ba8>"
       ]
      }
     ],
     "prompt_number": 69
    },
    {
     "cell_type": "code",
     "collapsed": false,
     "input": [
      "figsize(12.5, 5)\n",
      "# tau_samples, lambda_1_samples, lambda_2_samples contain\n",
      "# N samples from the corresponding posterior distribution\n",
      "N = tau_samples.shape[0]\n",
      "expected_cancelled = np.zeros(n_count_data)\n",
      "for day in range(0, n_count_data):\n",
      "    # ix is a bool index of all tau samples corresponding to\n",
      "    # the switchpoint occurring prior to value of 'day'\n",
      "    ix = day < tau_samples\n",
      "    # Each posterior sample corresponds to a value for tau.\n",
      "    # for each day, that value of tau indicates whether we're \"before\"\n",
      "    # (in the lambda1 \"regime\") or\n",
      "    #  \"after\" (in the lambda2 \"regime\") the switchpoint.\n",
      "    # by taking the posterior sample of lambda1/2 accordingly, we can average\n",
      "    # over all samples to get an expected value for lambda on that day.\n",
      "    # As explained, the \"message count\" random variable is Poisson distributed,\n",
      "    # and therefore lambda (the poisson parameter) is the expected value of\n",
      "    # \"message count\".\n",
      "    expected_cancelled[day] = (lambda_1_samples[ix].sum()\n",
      "                                   + lambda_2_samples[~ix].sum()) / N\n",
      "\n",
      "\n",
      "plt.plot(range(n_count_data), expected_texts_per_day, lw=4, color=\"#E24A33\",\n",
      "         label=\"Expected number of flight cancellations\")\n",
      "plt.xlim(0, n_count_data)\n",
      "plt.xlabel(\"Day\")\n",
      "plt.ylabel(\"Expected # cancelled\")\n",
      "plt.title(\"expected number of flights cancelled\")\n",
      "plt.ylim(0, 60)\n",
      "plt.bar(np.arange(len(count_data)), count_data, color=\"#348ABD\", alpha=0.65,\n",
      "        label=\"observed cancellations per day\")\n",
      "\n",
      "plt.legend(loc=\"upper left\");"
     ],
     "language": "python",
     "metadata": {},
     "outputs": [
      {
       "ename": "TypeError",
       "evalue": "unorderable types: str() < int()",
       "output_type": "pyerr",
       "traceback": [
        "\u001b[1;31m---------------------------------------------------------------------------\u001b[0m\n\u001b[1;31mTypeError\u001b[0m                                 Traceback (most recent call last)",
        "\u001b[1;32m<ipython-input-50-4a01958f0131>\u001b[0m in \u001b[0;36m<module>\u001b[1;34m()\u001b[0m\n\u001b[0;32m     29\u001b[0m \u001b[0mplt\u001b[0m\u001b[1;33m.\u001b[0m\u001b[0mylim\u001b[0m\u001b[1;33m(\u001b[0m\u001b[1;36m0\u001b[0m\u001b[1;33m,\u001b[0m \u001b[1;36m60\u001b[0m\u001b[1;33m)\u001b[0m\u001b[1;33m\u001b[0m\u001b[0m\n\u001b[0;32m     30\u001b[0m plt.bar(np.arange(len(count_data)), count_data, color=\"#348ABD\", alpha=0.65,\n\u001b[1;32m---> 31\u001b[1;33m         label=\"observed cancellations per day\")\n\u001b[0m\u001b[0;32m     32\u001b[0m \u001b[1;33m\u001b[0m\u001b[0m\n\u001b[0;32m     33\u001b[0m \u001b[0mplt\u001b[0m\u001b[1;33m.\u001b[0m\u001b[0mlegend\u001b[0m\u001b[1;33m(\u001b[0m\u001b[0mloc\u001b[0m\u001b[1;33m=\u001b[0m\u001b[1;34m\"upper left\"\u001b[0m\u001b[1;33m)\u001b[0m\u001b[1;33m;\u001b[0m\u001b[1;33m\u001b[0m\u001b[0m\n",
        "\u001b[1;32m/usr/lib/python3/dist-packages/matplotlib/pyplot.py\u001b[0m in \u001b[0;36mbar\u001b[1;34m(left, height, width, bottom, hold, **kwargs)\u001b[0m\n\u001b[0;32m   2513\u001b[0m         \u001b[0max\u001b[0m\u001b[1;33m.\u001b[0m\u001b[0mhold\u001b[0m\u001b[1;33m(\u001b[0m\u001b[0mhold\u001b[0m\u001b[1;33m)\u001b[0m\u001b[1;33m\u001b[0m\u001b[0m\n\u001b[0;32m   2514\u001b[0m     \u001b[1;32mtry\u001b[0m\u001b[1;33m:\u001b[0m\u001b[1;33m\u001b[0m\u001b[0m\n\u001b[1;32m-> 2515\u001b[1;33m         \u001b[0mret\u001b[0m \u001b[1;33m=\u001b[0m \u001b[0max\u001b[0m\u001b[1;33m.\u001b[0m\u001b[0mbar\u001b[0m\u001b[1;33m(\u001b[0m\u001b[0mleft\u001b[0m\u001b[1;33m,\u001b[0m \u001b[0mheight\u001b[0m\u001b[1;33m,\u001b[0m \u001b[0mwidth\u001b[0m\u001b[1;33m=\u001b[0m\u001b[0mwidth\u001b[0m\u001b[1;33m,\u001b[0m \u001b[0mbottom\u001b[0m\u001b[1;33m=\u001b[0m\u001b[0mbottom\u001b[0m\u001b[1;33m,\u001b[0m \u001b[1;33m**\u001b[0m\u001b[0mkwargs\u001b[0m\u001b[1;33m)\u001b[0m\u001b[1;33m\u001b[0m\u001b[0m\n\u001b[0m\u001b[0;32m   2516\u001b[0m         \u001b[0mdraw_if_interactive\u001b[0m\u001b[1;33m(\u001b[0m\u001b[1;33m)\u001b[0m\u001b[1;33m\u001b[0m\u001b[0m\n\u001b[0;32m   2517\u001b[0m     \u001b[1;32mfinally\u001b[0m\u001b[1;33m:\u001b[0m\u001b[1;33m\u001b[0m\u001b[0m\n",
        "\u001b[1;32m/usr/lib/python3/dist-packages/matplotlib/axes.py\u001b[0m in \u001b[0;36mbar\u001b[1;34m(self, left, height, width, bottom, **kwargs)\u001b[0m\n\u001b[0;32m   5037\u001b[0m         \u001b[0margs\u001b[0m \u001b[1;33m=\u001b[0m \u001b[0mlist\u001b[0m\u001b[1;33m(\u001b[0m\u001b[0mzip\u001b[0m\u001b[1;33m(\u001b[0m\u001b[0mleft\u001b[0m\u001b[1;33m,\u001b[0m \u001b[0mbottom\u001b[0m\u001b[1;33m,\u001b[0m \u001b[0mwidth\u001b[0m\u001b[1;33m,\u001b[0m \u001b[0mheight\u001b[0m\u001b[1;33m,\u001b[0m \u001b[0mcolor\u001b[0m\u001b[1;33m,\u001b[0m \u001b[0medgecolor\u001b[0m\u001b[1;33m,\u001b[0m \u001b[0mlinewidth\u001b[0m\u001b[1;33m)\u001b[0m\u001b[1;33m)\u001b[0m\u001b[1;33m\u001b[0m\u001b[0m\n\u001b[0;32m   5038\u001b[0m         \u001b[1;32mfor\u001b[0m \u001b[0ml\u001b[0m\u001b[1;33m,\u001b[0m \u001b[0mb\u001b[0m\u001b[1;33m,\u001b[0m \u001b[0mw\u001b[0m\u001b[1;33m,\u001b[0m \u001b[0mh\u001b[0m\u001b[1;33m,\u001b[0m \u001b[0mc\u001b[0m\u001b[1;33m,\u001b[0m \u001b[0me\u001b[0m\u001b[1;33m,\u001b[0m \u001b[0mlw\u001b[0m \u001b[1;32min\u001b[0m \u001b[0margs\u001b[0m\u001b[1;33m:\u001b[0m\u001b[1;33m\u001b[0m\u001b[0m\n\u001b[1;32m-> 5039\u001b[1;33m             \u001b[1;32mif\u001b[0m \u001b[0mh\u001b[0m \u001b[1;33m<\u001b[0m \u001b[1;36m0\u001b[0m\u001b[1;33m:\u001b[0m\u001b[1;33m\u001b[0m\u001b[0m\n\u001b[0m\u001b[0;32m   5040\u001b[0m                 \u001b[0mb\u001b[0m \u001b[1;33m+=\u001b[0m \u001b[0mh\u001b[0m\u001b[1;33m\u001b[0m\u001b[0m\n\u001b[0;32m   5041\u001b[0m                 \u001b[0mh\u001b[0m \u001b[1;33m=\u001b[0m \u001b[0mabs\u001b[0m\u001b[1;33m(\u001b[0m\u001b[0mh\u001b[0m\u001b[1;33m)\u001b[0m\u001b[1;33m\u001b[0m\u001b[0m\n",
        "\u001b[1;31mTypeError\u001b[0m: unorderable types: str() < int()"
       ]
      },
      {
       "metadata": {},
       "output_type": "display_data",
       "png": "[encoded data removed]",
       "text": [
        "<matplotlib.figure.Figure at 0x7f41bbc72a90>"
       ]
      }
     ],
     "prompt_number": 50
    },
    {
     "cell_type": "code",
     "collapsed": false,
     "input": [],
     "language": "python",
     "metadata": {},
     "outputs": []
    }
   ],
   "metadata": {}
  }
 ]
}
